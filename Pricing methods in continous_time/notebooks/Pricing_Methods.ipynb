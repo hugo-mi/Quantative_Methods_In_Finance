{
 "cells": [
  {
   "cell_type": "markdown",
   "id": "5e2369ff-81b6-4aba-87e8-bd16cd7dbbea",
   "metadata": {},
   "source": [
    "# Pricing Methods in continous time\n",
    "\n",
    "#### *Author : Hugo Michel*\n",
    "\n",
    "The objective of this notebook is to compare the price computed by the following methods:\n",
    "\n",
    "- Naive approach with Euler-Mayurama method\n",
    "- Monte Carlo with the analytical solution of the Geometric Brownian Motion\n",
    "- Black-Scholes closed formula"
   ]
  },
  {
   "cell_type": "markdown",
   "id": "e5ddee84-13b2-4793-9f77-7f3f7fabbd66",
   "metadata": {},
   "source": [
    "### Setup configuration"
   ]
  },
  {
   "cell_type": "code",
   "execution_count": 1,
   "id": "57e79a83-8470-4c3a-bf06-4651ece22771",
   "metadata": {
    "tags": []
   },
   "outputs": [],
   "source": [
    "#!pip install loguru\n",
    "#!pip instal tqdm"
   ]
  },
  {
   "cell_type": "code",
   "execution_count": 2,
   "id": "7451d14a-8794-4156-88c8-561eca73ab78",
   "metadata": {
    "tags": []
   },
   "outputs": [],
   "source": [
    "from test_wiener import (test_naive_GBM, \n",
    "                         test_black_scholes, \n",
    "                         test_analytical_solution_GBM, \n",
    "                         test_analytical_solution_GBM_one_step, \n",
    "                         price_over_nb_simul)"
   ]
  },
  {
   "cell_type": "markdown",
   "id": "c91476d6-e25a-459a-bc58-6b36edc46833",
   "metadata": {},
   "source": [
    "### Let's define financial parameters\n",
    "\n",
    "* `T`: time to maturity\n",
    "* `dt`: time step size\n",
    "* `initial_price`: spot price at $t=0$\n",
    "* `stike`: strike price\n",
    "* `n_dim`: number of step (number of simulation)\n",
    "* `r`: rist free rate\n",
    "* `sd`: volatility"
   ]
  },
  {
   "cell_type": "code",
   "execution_count": 3,
   "id": "70c54cae-ec2a-4652-8bba-bab9c0782658",
   "metadata": {
    "tags": []
   },
   "outputs": [],
   "source": [
    "T = 1 # time to maturity \n",
    "dt = 1/250  # time step size\n",
    "initial_price = 100.0 # spot price\n",
    "n_dim = 1000 # nb of simulations\n",
    "strike = 101.0 # strike price\n",
    "r = 0.02 # risk free rate \n",
    "sd = 0.1 # volatility"
   ]
  },
  {
   "cell_type": "markdown",
   "id": "441995d8-87e3-407c-bbb5-8e2e1a483194",
   "metadata": {},
   "source": [
    "### Let's compare the price of the each pricing methods"
   ]
  },
  {
   "cell_type": "code",
   "execution_count": 4,
   "id": "321d856c-2116-49b2-970f-a21ad6fd4ec0",
   "metadata": {
    "tags": []
   },
   "outputs": [
    {
     "name": "stderr",
     "output_type": "stream",
     "text": [
      "\u001b[32m2024-02-07 23:42:14.683\u001b[0m | \u001b[1mINFO    \u001b[0m | \u001b[36mgbm\u001b[0m:\u001b[36mnaive_GBM\u001b[0m:\u001b[36m26\u001b[0m - \u001b[1mnumber of steps for duration 1 and dt 0.004: 250\u001b[0m\n"
     ]
    },
    {
     "name": "stdout",
     "output_type": "stream",
     "text": [
      "#### NAIVE GBM (Euler-Mayurama) ####\n"
     ]
    },
    {
     "name": "stderr",
     "output_type": "stream",
     "text": [
      "100%|█████████████████████████████████████████████████████████████████████████████| 250/250 [00:00<00:00, 15333.42it/s]\n",
      "\u001b[32m2024-02-07 23:42:14.705\u001b[0m | \u001b[1mINFO    \u001b[0m | \u001b[36mgbm\u001b[0m:\u001b[36manalytical_solution_GBM\u001b[0m:\u001b[36m48\u001b[0m - \u001b[1mnumber of steps for duration 1 and dt 0.004: 250\u001b[0m\n",
      "\u001b[32m2024-02-07 23:42:14.721\u001b[0m | \u001b[1mINFO    \u001b[0m | \u001b[36mgbm\u001b[0m:\u001b[36manalytical_solution_GBM_one_step\u001b[0m:\u001b[36m72\u001b[0m - \u001b[1mnumber of steps for duration 1 : 1\u001b[0m\n"
     ]
    },
    {
     "name": "stdout",
     "output_type": "stream",
     "text": [
      "Naive GBM price: 4.783597896536699\n",
      "\n",
      "\n",
      "### BLACK-SCHOLES ###\n",
      "Black-Scholes 4.487793627568514\n",
      "\n",
      "\n",
      "### ANALYTICAL SOLUTION GBM ###\n",
      "Analitycal solution GBM price: 4.64739876084006\n",
      "\n",
      "\n",
      "###ANALYTICAL SOLUTION GBM ONE STEP PRICE ###\n",
      "Analitycal solution GBM 1-step price: 4.474507946860907\n"
     ]
    },
    {
     "data": {
      "text/plain": [
       "4.474507946860907"
      ]
     },
     "execution_count": 4,
     "metadata": {},
     "output_type": "execute_result"
    }
   ],
   "source": [
    "print(\"#### NAIVE GBM (Euler-Mayurama) ####\")\n",
    "test_naive_GBM(t = T, dt = dt, initial_price = initial_price, n_dim = n_dim, strike = strike, r = r, sd = sd, plot_graph = False)\n",
    "\n",
    "print(\"\\n\\n### BLACK-SCHOLES ###\")\n",
    "test_black_scholes(t = T, dt = dt, initial_price = initial_price, n_dim = n_dim, strike = strike, r = r, sd = sd, plot_graph = False)\n",
    "\n",
    "print(\"\\n\\n### ANALYTICAL SOLUTION GBM ###\")\n",
    "test_analytical_solution_GBM(t = T, dt = dt, initial_price = initial_price, n_dim = n_dim, strike = strike, r = r, sd = sd, plot_graph = False)\n",
    "\n",
    "print(\"\\n\\n###ANALYTICAL SOLUTION GBM ONE STEP PRICE ###\")\n",
    "test_analytical_solution_GBM_one_step(t = T, dt = dt, initial_price = initial_price, n_dim = n_dim, strike = strike, r = r, sd = sd, plot_graph = False)\n"
   ]
  },
  {
   "cell_type": "markdown",
   "id": "fec2d0be-e9b9-4667-bc5e-4726509cb5a0",
   "metadata": {},
   "source": [
    "### Now let's observe the effect of the number of simulation"
   ]
  },
  {
   "cell_type": "code",
   "execution_count": 5,
   "id": "104f8ba3-4fee-4aaf-9aaa-077f5593b75e",
   "metadata": {
    "tags": []
   },
   "outputs": [
    {
     "name": "stderr",
     "output_type": "stream",
     "text": [
      "\u001b[32m2024-02-07 23:42:14.739\u001b[0m | \u001b[1mINFO    \u001b[0m | \u001b[36mgbm\u001b[0m:\u001b[36mnaive_GBM\u001b[0m:\u001b[36m26\u001b[0m - \u001b[1mnumber of steps for duration 1 and dt 0.004: 250\u001b[0m\n",
      "100%|████████████████████████████████████████████████████████████████████████████████████████| 250/250 [00:00<?, ?it/s]\n",
      "\u001b[32m2024-02-07 23:42:14.751\u001b[0m | \u001b[1mINFO    \u001b[0m | \u001b[36mgbm\u001b[0m:\u001b[36manalytical_solution_GBM\u001b[0m:\u001b[36m48\u001b[0m - \u001b[1mnumber of steps for duration 1 and dt 0.004: 250\u001b[0m\n",
      "\u001b[32m2024-02-07 23:42:14.754\u001b[0m | \u001b[1mINFO    \u001b[0m | \u001b[36mgbm\u001b[0m:\u001b[36manalytical_solution_GBM_one_step\u001b[0m:\u001b[36m72\u001b[0m - \u001b[1mnumber of steps for duration 1 : 1\u001b[0m\n",
      "\u001b[32m2024-02-07 23:42:14.756\u001b[0m | \u001b[1mINFO    \u001b[0m | \u001b[36mgbm\u001b[0m:\u001b[36mnaive_GBM\u001b[0m:\u001b[36m26\u001b[0m - \u001b[1mnumber of steps for duration 1 and dt 0.004: 250\u001b[0m\n"
     ]
    },
    {
     "name": "stdout",
     "output_type": "stream",
     "text": [
      "Naive GBM price: 0.0\n",
      "Black-Scholes 4.487793627568514\n",
      "Analitycal solution GBM price: 0.0\n",
      "Analitycal solution GBM 1-step price: 10.324239802219992\n"
     ]
    },
    {
     "name": "stderr",
     "output_type": "stream",
     "text": [
      "100%|████████████████████████████████████████████████████████████████████████████| 250/250 [00:00<00:00, 198593.94it/s]\n",
      "\u001b[32m2024-02-07 23:42:14.766\u001b[0m | \u001b[1mINFO    \u001b[0m | \u001b[36mgbm\u001b[0m:\u001b[36manalytical_solution_GBM\u001b[0m:\u001b[36m48\u001b[0m - \u001b[1mnumber of steps for duration 1 and dt 0.004: 250\u001b[0m\n",
      "\u001b[32m2024-02-07 23:42:14.769\u001b[0m | \u001b[1mINFO    \u001b[0m | \u001b[36mgbm\u001b[0m:\u001b[36manalytical_solution_GBM_one_step\u001b[0m:\u001b[36m72\u001b[0m - \u001b[1mnumber of steps for duration 1 : 1\u001b[0m\n",
      "\u001b[32m2024-02-07 23:42:14.770\u001b[0m | \u001b[1mINFO    \u001b[0m | \u001b[36mgbm\u001b[0m:\u001b[36mnaive_GBM\u001b[0m:\u001b[36m26\u001b[0m - \u001b[1mnumber of steps for duration 1 and dt 0.004: 250\u001b[0m\n"
     ]
    },
    {
     "name": "stdout",
     "output_type": "stream",
     "text": [
      "Naive GBM price: 3.9154408319920067\n",
      "Black-Scholes 4.487793627568514\n",
      "Analitycal solution GBM price: 0.5302883430283828\n",
      "Analitycal solution GBM 1-step price: 6.162251210041734\n"
     ]
    },
    {
     "name": "stderr",
     "output_type": "stream",
     "text": [
      "100%|████████████████████████████████████████████████████████████████████████████████████████| 250/250 [00:00<?, ?it/s]\n",
      "\u001b[32m2024-02-07 23:42:14.772\u001b[0m | \u001b[1mINFO    \u001b[0m | \u001b[36mgbm\u001b[0m:\u001b[36manalytical_solution_GBM\u001b[0m:\u001b[36m48\u001b[0m - \u001b[1mnumber of steps for duration 1 and dt 0.004: 250\u001b[0m\n",
      "\u001b[32m2024-02-07 23:42:14.782\u001b[0m | \u001b[1mINFO    \u001b[0m | \u001b[36mgbm\u001b[0m:\u001b[36manalytical_solution_GBM_one_step\u001b[0m:\u001b[36m72\u001b[0m - \u001b[1mnumber of steps for duration 1 : 1\u001b[0m\n",
      "\u001b[32m2024-02-07 23:42:14.785\u001b[0m | \u001b[1mINFO    \u001b[0m | \u001b[36mgbm\u001b[0m:\u001b[36mnaive_GBM\u001b[0m:\u001b[36m26\u001b[0m - \u001b[1mnumber of steps for duration 1 and dt 0.004: 250\u001b[0m\n"
     ]
    },
    {
     "name": "stdout",
     "output_type": "stream",
     "text": [
      "Naive GBM price: 8.33038318631597\n",
      "Black-Scholes 4.487793627568514\n",
      "Analitycal solution GBM price: 7.894657264144745\n",
      "Analitycal solution GBM 1-step price: 8.116163304900498\n"
     ]
    },
    {
     "name": "stderr",
     "output_type": "stream",
     "text": [
      "100%|████████████████████████████████████████████████████████████████████████████████████████| 250/250 [00:00<?, ?it/s]\n",
      "\u001b[32m2024-02-07 23:42:14.788\u001b[0m | \u001b[1mINFO    \u001b[0m | \u001b[36mgbm\u001b[0m:\u001b[36manalytical_solution_GBM\u001b[0m:\u001b[36m48\u001b[0m - \u001b[1mnumber of steps for duration 1 and dt 0.004: 250\u001b[0m\n",
      "\u001b[32m2024-02-07 23:42:14.788\u001b[0m | \u001b[1mINFO    \u001b[0m | \u001b[36mgbm\u001b[0m:\u001b[36manalytical_solution_GBM_one_step\u001b[0m:\u001b[36m72\u001b[0m - \u001b[1mnumber of steps for duration 1 : 1\u001b[0m\n",
      "\u001b[32m2024-02-07 23:42:14.788\u001b[0m | \u001b[1mINFO    \u001b[0m | \u001b[36mgbm\u001b[0m:\u001b[36mnaive_GBM\u001b[0m:\u001b[36m26\u001b[0m - \u001b[1mnumber of steps for duration 1 and dt 0.004: 250\u001b[0m\n"
     ]
    },
    {
     "name": "stdout",
     "output_type": "stream",
     "text": [
      "Naive GBM price: 4.618109090395042\n",
      "Black-Scholes 4.487793627568514\n",
      "Analitycal solution GBM price: 5.475774973908894\n",
      "Analitycal solution GBM 1-step price: 4.609837478597651\n"
     ]
    },
    {
     "name": "stderr",
     "output_type": "stream",
     "text": [
      "100%|████████████████████████████████████████████████████████████████████████████| 250/250 [00:00<00:00, 115698.55it/s]\n",
      "\u001b[32m2024-02-07 23:42:14.805\u001b[0m | \u001b[1mINFO    \u001b[0m | \u001b[36mgbm\u001b[0m:\u001b[36manalytical_solution_GBM\u001b[0m:\u001b[36m48\u001b[0m - \u001b[1mnumber of steps for duration 1 and dt 0.004: 250\u001b[0m\n",
      "\u001b[32m2024-02-07 23:42:14.806\u001b[0m | \u001b[1mINFO    \u001b[0m | \u001b[36mgbm\u001b[0m:\u001b[36manalytical_solution_GBM_one_step\u001b[0m:\u001b[36m72\u001b[0m - \u001b[1mnumber of steps for duration 1 : 1\u001b[0m\n",
      "\u001b[32m2024-02-07 23:42:14.806\u001b[0m | \u001b[1mINFO    \u001b[0m | \u001b[36mgbm\u001b[0m:\u001b[36mnaive_GBM\u001b[0m:\u001b[36m26\u001b[0m - \u001b[1mnumber of steps for duration 1 and dt 0.004: 250\u001b[0m\n"
     ]
    },
    {
     "name": "stdout",
     "output_type": "stream",
     "text": [
      "Naive GBM price: 4.355305358957801\n",
      "Black-Scholes 4.487793627568514\n",
      "Analitycal solution GBM price: 4.370047498731252\n",
      "Analitycal solution GBM 1-step price: 3.1892811329671575\n"
     ]
    },
    {
     "name": "stderr",
     "output_type": "stream",
     "text": [
      "100%|█████████████████████████████████████████████████████████████████████████████| 250/250 [00:00<00:00, 22313.45it/s]\n",
      "\u001b[32m2024-02-07 23:42:14.820\u001b[0m | \u001b[1mINFO    \u001b[0m | \u001b[36mgbm\u001b[0m:\u001b[36manalytical_solution_GBM\u001b[0m:\u001b[36m48\u001b[0m - \u001b[1mnumber of steps for duration 1 and dt 0.004: 250\u001b[0m\n",
      "\u001b[32m2024-02-07 23:42:14.822\u001b[0m | \u001b[1mINFO    \u001b[0m | \u001b[36mgbm\u001b[0m:\u001b[36manalytical_solution_GBM_one_step\u001b[0m:\u001b[36m72\u001b[0m - \u001b[1mnumber of steps for duration 1 : 1\u001b[0m\n",
      "\u001b[32m2024-02-07 23:42:14.822\u001b[0m | \u001b[1mINFO    \u001b[0m | \u001b[36mgbm\u001b[0m:\u001b[36mnaive_GBM\u001b[0m:\u001b[36m26\u001b[0m - \u001b[1mnumber of steps for duration 1 and dt 0.004: 250\u001b[0m\n"
     ]
    },
    {
     "name": "stdout",
     "output_type": "stream",
     "text": [
      "Naive GBM price: 3.6619954786265976\n",
      "Black-Scholes 4.487793627568514\n",
      "Analitycal solution GBM price: 4.671385700042763\n",
      "Analitycal solution GBM 1-step price: 5.164076414934832\n"
     ]
    },
    {
     "name": "stderr",
     "output_type": "stream",
     "text": [
      "100%|████████████████████████████████████████████████████████████████████████████████████████| 250/250 [00:00<?, ?it/s]\n",
      "\u001b[32m2024-02-07 23:42:14.833\u001b[0m | \u001b[1mINFO    \u001b[0m | \u001b[36mgbm\u001b[0m:\u001b[36manalytical_solution_GBM\u001b[0m:\u001b[36m48\u001b[0m - \u001b[1mnumber of steps for duration 1 and dt 0.004: 250\u001b[0m\n",
      "\u001b[32m2024-02-07 23:42:14.836\u001b[0m | \u001b[1mINFO    \u001b[0m | \u001b[36mgbm\u001b[0m:\u001b[36manalytical_solution_GBM_one_step\u001b[0m:\u001b[36m72\u001b[0m - \u001b[1mnumber of steps for duration 1 : 1\u001b[0m\n",
      "\u001b[32m2024-02-07 23:42:14.838\u001b[0m | \u001b[1mINFO    \u001b[0m | \u001b[36mgbm\u001b[0m:\u001b[36mnaive_GBM\u001b[0m:\u001b[36m26\u001b[0m - \u001b[1mnumber of steps for duration 1 and dt 0.004: 250\u001b[0m\n"
     ]
    },
    {
     "name": "stdout",
     "output_type": "stream",
     "text": [
      "Naive GBM price: 4.203965489515221\n",
      "Black-Scholes 4.487793627568514\n",
      "Analitycal solution GBM price: 4.53286205323808\n",
      "Analitycal solution GBM 1-step price: 3.8445738036403836\n"
     ]
    },
    {
     "name": "stderr",
     "output_type": "stream",
     "text": [
      "100%|████████████████████████████████████████████████████████████████████████████████████████| 250/250 [00:00<?, ?it/s]\n",
      "\u001b[32m2024-02-07 23:42:14.838\u001b[0m | \u001b[1mINFO    \u001b[0m | \u001b[36mgbm\u001b[0m:\u001b[36manalytical_solution_GBM\u001b[0m:\u001b[36m48\u001b[0m - \u001b[1mnumber of steps for duration 1 and dt 0.004: 250\u001b[0m\n",
      "\u001b[32m2024-02-07 23:42:14.852\u001b[0m | \u001b[1mINFO    \u001b[0m | \u001b[36mgbm\u001b[0m:\u001b[36manalytical_solution_GBM_one_step\u001b[0m:\u001b[36m72\u001b[0m - \u001b[1mnumber of steps for duration 1 : 1\u001b[0m\n",
      "\u001b[32m2024-02-07 23:42:14.853\u001b[0m | \u001b[1mINFO    \u001b[0m | \u001b[36mgbm\u001b[0m:\u001b[36mnaive_GBM\u001b[0m:\u001b[36m26\u001b[0m - \u001b[1mnumber of steps for duration 1 and dt 0.004: 250\u001b[0m\n"
     ]
    },
    {
     "name": "stdout",
     "output_type": "stream",
     "text": [
      "Naive GBM price: 4.506189301479142\n",
      "Black-Scholes 4.487793627568514\n",
      "Analitycal solution GBM price: 4.731335367696648\n",
      "Analitycal solution GBM 1-step price: 4.097137381163431\n"
     ]
    },
    {
     "name": "stderr",
     "output_type": "stream",
     "text": [
      "100%|████████████████████████████████████████████████████████████████████████████████████████| 250/250 [00:00<?, ?it/s]\n",
      "\u001b[32m2024-02-07 23:42:14.854\u001b[0m | \u001b[1mINFO    \u001b[0m | \u001b[36mgbm\u001b[0m:\u001b[36manalytical_solution_GBM\u001b[0m:\u001b[36m48\u001b[0m - \u001b[1mnumber of steps for duration 1 and dt 0.004: 250\u001b[0m\n",
      "\u001b[32m2024-02-07 23:42:14.868\u001b[0m | \u001b[1mINFO    \u001b[0m | \u001b[36mgbm\u001b[0m:\u001b[36manalytical_solution_GBM_one_step\u001b[0m:\u001b[36m72\u001b[0m - \u001b[1mnumber of steps for duration 1 : 1\u001b[0m\n"
     ]
    },
    {
     "name": "stdout",
     "output_type": "stream",
     "text": [
      "Naive GBM price: 5.219723376324165\n",
      "Black-Scholes 4.487793627568514\n",
      "Analitycal solution GBM price: 3.996702819261549\n"
     ]
    },
    {
     "name": "stderr",
     "output_type": "stream",
     "text": [
      "\u001b[32m2024-02-07 23:42:14.871\u001b[0m | \u001b[1mINFO    \u001b[0m | \u001b[36mgbm\u001b[0m:\u001b[36mnaive_GBM\u001b[0m:\u001b[36m26\u001b[0m - \u001b[1mnumber of steps for duration 1 and dt 0.004: 250\u001b[0m\n"
     ]
    },
    {
     "name": "stdout",
     "output_type": "stream",
     "text": [
      "Analitycal solution GBM 1-step price: 3.919201015570814\n"
     ]
    },
    {
     "name": "stderr",
     "output_type": "stream",
     "text": [
      "100%|████████████████████████████████████████████████████████████████████████████████████████| 250/250 [00:00<?, ?it/s]\n",
      "\u001b[32m2024-02-07 23:42:14.872\u001b[0m | \u001b[1mINFO    \u001b[0m | \u001b[36mgbm\u001b[0m:\u001b[36manalytical_solution_GBM\u001b[0m:\u001b[36m48\u001b[0m - \u001b[1mnumber of steps for duration 1 and dt 0.004: 250\u001b[0m\n"
     ]
    },
    {
     "name": "stdout",
     "output_type": "stream",
     "text": [
      "Naive GBM price: 3.9215800102007505\n",
      "Black-Scholes 4.487793627568514\n"
     ]
    },
    {
     "name": "stderr",
     "output_type": "stream",
     "text": [
      "\u001b[32m2024-02-07 23:42:14.887\u001b[0m | \u001b[1mINFO    \u001b[0m | \u001b[36mgbm\u001b[0m:\u001b[36manalytical_solution_GBM_one_step\u001b[0m:\u001b[36m72\u001b[0m - \u001b[1mnumber of steps for duration 1 : 1\u001b[0m\n",
      "\u001b[32m2024-02-07 23:42:14.889\u001b[0m | \u001b[1mINFO    \u001b[0m | \u001b[36mgbm\u001b[0m:\u001b[36mnaive_GBM\u001b[0m:\u001b[36m26\u001b[0m - \u001b[1mnumber of steps for duration 1 and dt 0.004: 250\u001b[0m\n"
     ]
    },
    {
     "name": "stdout",
     "output_type": "stream",
     "text": [
      "Analitycal solution GBM price: 4.628717003108024\n",
      "Analitycal solution GBM 1-step price: 4.472661284482277\n"
     ]
    },
    {
     "name": "stderr",
     "output_type": "stream",
     "text": [
      "100%|█████████████████████████████████████████████████████████████████████████████| 250/250 [00:00<00:00, 26104.76it/s]\n",
      "\u001b[32m2024-02-07 23:42:14.901\u001b[0m | \u001b[1mINFO    \u001b[0m | \u001b[36mgbm\u001b[0m:\u001b[36manalytical_solution_GBM\u001b[0m:\u001b[36m48\u001b[0m - \u001b[1mnumber of steps for duration 1 and dt 0.004: 250\u001b[0m\n",
      "\u001b[32m2024-02-07 23:42:14.904\u001b[0m | \u001b[1mINFO    \u001b[0m | \u001b[36mgbm\u001b[0m:\u001b[36manalytical_solution_GBM_one_step\u001b[0m:\u001b[36m72\u001b[0m - \u001b[1mnumber of steps for duration 1 : 1\u001b[0m\n",
      "\u001b[32m2024-02-07 23:42:14.904\u001b[0m | \u001b[1mINFO    \u001b[0m | \u001b[36mgbm\u001b[0m:\u001b[36mnaive_GBM\u001b[0m:\u001b[36m26\u001b[0m - \u001b[1mnumber of steps for duration 1 and dt 0.004: 250\u001b[0m\n"
     ]
    },
    {
     "name": "stdout",
     "output_type": "stream",
     "text": [
      "Naive GBM price: 4.06453629212695\n",
      "Black-Scholes 4.487793627568514\n",
      "Analitycal solution GBM price: 5.045559470607023\n",
      "Analitycal solution GBM 1-step price: 4.114337107986532\n"
     ]
    },
    {
     "name": "stderr",
     "output_type": "stream",
     "text": [
      "100%|█████████████████████████████████████████████████████████████████████████████| 250/250 [00:00<00:00, 17828.68it/s]\n",
      "\u001b[32m2024-02-07 23:42:14.920\u001b[0m | \u001b[1mINFO    \u001b[0m | \u001b[36mgbm\u001b[0m:\u001b[36manalytical_solution_GBM\u001b[0m:\u001b[36m48\u001b[0m - \u001b[1mnumber of steps for duration 1 and dt 0.004: 250\u001b[0m\n",
      "\u001b[32m2024-02-07 23:42:14.922\u001b[0m | \u001b[1mINFO    \u001b[0m | \u001b[36mgbm\u001b[0m:\u001b[36manalytical_solution_GBM_one_step\u001b[0m:\u001b[36m72\u001b[0m - \u001b[1mnumber of steps for duration 1 : 1\u001b[0m\n",
      "\u001b[32m2024-02-07 23:42:14.922\u001b[0m | \u001b[1mINFO    \u001b[0m | \u001b[36mgbm\u001b[0m:\u001b[36mnaive_GBM\u001b[0m:\u001b[36m26\u001b[0m - \u001b[1mnumber of steps for duration 1 and dt 0.004: 250\u001b[0m\n"
     ]
    },
    {
     "name": "stdout",
     "output_type": "stream",
     "text": [
      "Naive GBM price: 4.762265738346309\n",
      "Black-Scholes 4.487793627568514\n",
      "Analitycal solution GBM price: 3.8360359452554054\n",
      "Analitycal solution GBM 1-step price: 4.320643594577176\n"
     ]
    },
    {
     "name": "stderr",
     "output_type": "stream",
     "text": [
      "100%|█████████████████████████████████████████████████████████████████████████████| 250/250 [00:00<00:00, 81747.56it/s]\n",
      "\u001b[32m2024-02-07 23:42:14.938\u001b[0m | \u001b[1mINFO    \u001b[0m | \u001b[36mgbm\u001b[0m:\u001b[36manalytical_solution_GBM\u001b[0m:\u001b[36m48\u001b[0m - \u001b[1mnumber of steps for duration 1 and dt 0.004: 250\u001b[0m\n",
      "\u001b[32m2024-02-07 23:42:14.938\u001b[0m | \u001b[1mINFO    \u001b[0m | \u001b[36mgbm\u001b[0m:\u001b[36manalytical_solution_GBM_one_step\u001b[0m:\u001b[36m72\u001b[0m - \u001b[1mnumber of steps for duration 1 : 1\u001b[0m\n",
      "\u001b[32m2024-02-07 23:42:14.950\u001b[0m | \u001b[1mINFO    \u001b[0m | \u001b[36mgbm\u001b[0m:\u001b[36mnaive_GBM\u001b[0m:\u001b[36m26\u001b[0m - \u001b[1mnumber of steps for duration 1 and dt 0.004: 250\u001b[0m\n"
     ]
    },
    {
     "name": "stdout",
     "output_type": "stream",
     "text": [
      "Naive GBM price: 4.545001669341214\n",
      "Black-Scholes 4.487793627568514\n",
      "Analitycal solution GBM price: 4.005536831559566\n",
      "Analitycal solution GBM 1-step price: 4.195176295525742\n"
     ]
    },
    {
     "name": "stderr",
     "output_type": "stream",
     "text": [
      "100%|████████████████████████████████████████████████████████████████████████████████████████| 250/250 [00:00<?, ?it/s]\n",
      "\u001b[32m2024-02-07 23:42:14.955\u001b[0m | \u001b[1mINFO    \u001b[0m | \u001b[36mgbm\u001b[0m:\u001b[36manalytical_solution_GBM\u001b[0m:\u001b[36m48\u001b[0m - \u001b[1mnumber of steps for duration 1 and dt 0.004: 250\u001b[0m\n",
      "\u001b[32m2024-02-07 23:42:14.972\u001b[0m | \u001b[1mINFO    \u001b[0m | \u001b[36mgbm\u001b[0m:\u001b[36manalytical_solution_GBM_one_step\u001b[0m:\u001b[36m72\u001b[0m - \u001b[1mnumber of steps for duration 1 : 1\u001b[0m\n"
     ]
    },
    {
     "name": "stdout",
     "output_type": "stream",
     "text": [
      "Naive GBM price: 4.828371856716967\n",
      "Black-Scholes 4.487793627568514\n",
      "Analitycal solution GBM price: 4.457981068361506\n"
     ]
    },
    {
     "name": "stderr",
     "output_type": "stream",
     "text": [
      "\u001b[32m2024-02-07 23:42:14.972\u001b[0m | \u001b[1mINFO    \u001b[0m | \u001b[36mgbm\u001b[0m:\u001b[36mnaive_GBM\u001b[0m:\u001b[36m26\u001b[0m - \u001b[1mnumber of steps for duration 1 and dt 0.004: 250\u001b[0m\n"
     ]
    },
    {
     "name": "stdout",
     "output_type": "stream",
     "text": [
      "Analitycal solution GBM 1-step price: 4.7375717209558985\n"
     ]
    },
    {
     "name": "stderr",
     "output_type": "stream",
     "text": [
      "100%|█████████████████████████████████████████████████████████████████████████████| 250/250 [00:00<00:00, 61695.46it/s]\n",
      "\u001b[32m2024-02-07 23:42:14.989\u001b[0m | \u001b[1mINFO    \u001b[0m | \u001b[36mgbm\u001b[0m:\u001b[36manalytical_solution_GBM\u001b[0m:\u001b[36m48\u001b[0m - \u001b[1mnumber of steps for duration 1 and dt 0.004: 250\u001b[0m\n"
     ]
    },
    {
     "name": "stdout",
     "output_type": "stream",
     "text": [
      "Naive GBM price: 4.534464571485676\n",
      "Black-Scholes 4.487793627568514\n"
     ]
    },
    {
     "name": "stderr",
     "output_type": "stream",
     "text": [
      "\u001b[32m2024-02-07 23:42:15.002\u001b[0m | \u001b[1mINFO    \u001b[0m | \u001b[36mgbm\u001b[0m:\u001b[36manalytical_solution_GBM_one_step\u001b[0m:\u001b[36m72\u001b[0m - \u001b[1mnumber of steps for duration 1 : 1\u001b[0m\n",
      "\u001b[32m2024-02-07 23:42:15.003\u001b[0m | \u001b[1mINFO    \u001b[0m | \u001b[36mgbm\u001b[0m:\u001b[36mnaive_GBM\u001b[0m:\u001b[36m26\u001b[0m - \u001b[1mnumber of steps for duration 1 and dt 0.004: 250\u001b[0m\n"
     ]
    },
    {
     "name": "stdout",
     "output_type": "stream",
     "text": [
      "Analitycal solution GBM price: 4.33384535187926\n",
      "Analitycal solution GBM 1-step price: 4.29590989918403\n"
     ]
    },
    {
     "name": "stderr",
     "output_type": "stream",
     "text": [
      "100%|█████████████████████████████████████████████████████████████████████████████| 250/250 [00:00<00:00, 58783.27it/s]\n",
      "\u001b[32m2024-02-07 23:42:15.020\u001b[0m | \u001b[1mINFO    \u001b[0m | \u001b[36mgbm\u001b[0m:\u001b[36manalytical_solution_GBM\u001b[0m:\u001b[36m48\u001b[0m - \u001b[1mnumber of steps for duration 1 and dt 0.004: 250\u001b[0m\n"
     ]
    },
    {
     "name": "stdout",
     "output_type": "stream",
     "text": [
      "Naive GBM price: 4.689313417821889\n",
      "Black-Scholes 4.487793627568514\n"
     ]
    },
    {
     "name": "stderr",
     "output_type": "stream",
     "text": [
      "\u001b[32m2024-02-07 23:42:15.034\u001b[0m | \u001b[1mINFO    \u001b[0m | \u001b[36mgbm\u001b[0m:\u001b[36manalytical_solution_GBM_one_step\u001b[0m:\u001b[36m72\u001b[0m - \u001b[1mnumber of steps for duration 1 : 1\u001b[0m\n"
     ]
    },
    {
     "name": "stdout",
     "output_type": "stream",
     "text": [
      "Analitycal solution GBM price: 4.639276719963792\n",
      "Analitycal solution GBM 1-step price: 4.329665631467199\n"
     ]
    },
    {
     "name": "stderr",
     "output_type": "stream",
     "text": [
      "\u001b[32m2024-02-07 23:42:15.035\u001b[0m | \u001b[1mINFO    \u001b[0m | \u001b[36mgbm\u001b[0m:\u001b[36mnaive_GBM\u001b[0m:\u001b[36m26\u001b[0m - \u001b[1mnumber of steps for duration 1 and dt 0.004: 250\u001b[0m\n",
      "100%|█████████████████████████████████████████████████████████████████████████████| 250/250 [00:00<00:00, 18843.35it/s]\n",
      "\u001b[32m2024-02-07 23:42:15.055\u001b[0m | \u001b[1mINFO    \u001b[0m | \u001b[36mgbm\u001b[0m:\u001b[36manalytical_solution_GBM\u001b[0m:\u001b[36m48\u001b[0m - \u001b[1mnumber of steps for duration 1 and dt 0.004: 250\u001b[0m\n",
      "\u001b[32m2024-02-07 23:42:15.071\u001b[0m | \u001b[1mINFO    \u001b[0m | \u001b[36mgbm\u001b[0m:\u001b[36manalytical_solution_GBM_one_step\u001b[0m:\u001b[36m72\u001b[0m - \u001b[1mnumber of steps for duration 1 : 1\u001b[0m\n"
     ]
    },
    {
     "name": "stdout",
     "output_type": "stream",
     "text": [
      "Naive GBM price: 4.115578926412541\n",
      "Black-Scholes 4.487793627568514\n",
      "Analitycal solution GBM price: 4.645315465409607\n"
     ]
    },
    {
     "name": "stderr",
     "output_type": "stream",
     "text": [
      "\u001b[32m2024-02-07 23:42:15.071\u001b[0m | \u001b[1mINFO    \u001b[0m | \u001b[36mgbm\u001b[0m:\u001b[36mnaive_GBM\u001b[0m:\u001b[36m26\u001b[0m - \u001b[1mnumber of steps for duration 1 and dt 0.004: 250\u001b[0m\n"
     ]
    },
    {
     "name": "stdout",
     "output_type": "stream",
     "text": [
      "Analitycal solution GBM 1-step price: 4.678479491156601\n"
     ]
    },
    {
     "name": "stderr",
     "output_type": "stream",
     "text": [
      "100%|█████████████████████████████████████████████████████████████████████████████| 250/250 [00:00<00:00, 88100.82it/s]\n",
      "\u001b[32m2024-02-07 23:42:15.089\u001b[0m | \u001b[1mINFO    \u001b[0m | \u001b[36mgbm\u001b[0m:\u001b[36manalytical_solution_GBM\u001b[0m:\u001b[36m48\u001b[0m - \u001b[1mnumber of steps for duration 1 and dt 0.004: 250\u001b[0m\n",
      "\u001b[32m2024-02-07 23:42:15.104\u001b[0m | \u001b[1mINFO    \u001b[0m | \u001b[36mgbm\u001b[0m:\u001b[36manalytical_solution_GBM_one_step\u001b[0m:\u001b[36m72\u001b[0m - \u001b[1mnumber of steps for duration 1 : 1\u001b[0m\n"
     ]
    },
    {
     "name": "stdout",
     "output_type": "stream",
     "text": [
      "Naive GBM price: 4.741823971459883\n",
      "Black-Scholes 4.487793627568514\n",
      "Analitycal solution GBM price: 4.1883444130370595\n"
     ]
    },
    {
     "name": "stderr",
     "output_type": "stream",
     "text": [
      "\u001b[32m2024-02-07 23:42:15.104\u001b[0m | \u001b[1mINFO    \u001b[0m | \u001b[36mgbm\u001b[0m:\u001b[36mnaive_GBM\u001b[0m:\u001b[36m26\u001b[0m - \u001b[1mnumber of steps for duration 1 and dt 0.004: 250\u001b[0m\n"
     ]
    },
    {
     "name": "stdout",
     "output_type": "stream",
     "text": [
      "Analitycal solution GBM 1-step price: 4.131765966571729\n"
     ]
    },
    {
     "name": "stderr",
     "output_type": "stream",
     "text": [
      "100%|████████████████████████████████████████████████████████████████████████████████████████| 250/250 [00:00<?, ?it/s]\n",
      "\u001b[32m2024-02-07 23:42:15.133\u001b[0m | \u001b[1mINFO    \u001b[0m | \u001b[36mgbm\u001b[0m:\u001b[36manalytical_solution_GBM\u001b[0m:\u001b[36m48\u001b[0m - \u001b[1mnumber of steps for duration 1 and dt 0.004: 250\u001b[0m\n"
     ]
    },
    {
     "name": "stdout",
     "output_type": "stream",
     "text": [
      "Naive GBM price: 4.477114238074554\n",
      "Black-Scholes 4.487793627568514\n"
     ]
    },
    {
     "name": "stderr",
     "output_type": "stream",
     "text": [
      "\u001b[32m2024-02-07 23:42:15.151\u001b[0m | \u001b[1mINFO    \u001b[0m | \u001b[36mgbm\u001b[0m:\u001b[36manalytical_solution_GBM_one_step\u001b[0m:\u001b[36m72\u001b[0m - \u001b[1mnumber of steps for duration 1 : 1\u001b[0m\n"
     ]
    },
    {
     "name": "stdout",
     "output_type": "stream",
     "text": [
      "Analitycal solution GBM price: 4.519042589625687\n"
     ]
    },
    {
     "name": "stderr",
     "output_type": "stream",
     "text": [
      "\u001b[32m2024-02-07 23:42:15.153\u001b[0m | \u001b[1mINFO    \u001b[0m | \u001b[36mgbm\u001b[0m:\u001b[36mnaive_GBM\u001b[0m:\u001b[36m26\u001b[0m - \u001b[1mnumber of steps for duration 1 and dt 0.004: 250\u001b[0m\n"
     ]
    },
    {
     "name": "stdout",
     "output_type": "stream",
     "text": [
      "Analitycal solution GBM 1-step price: 4.710428137927023\n"
     ]
    },
    {
     "name": "stderr",
     "output_type": "stream",
     "text": [
      "100%|████████████████████████████████████████████████████████████████████████████| 250/250 [00:00<00:00, 164070.72it/s]\n",
      "\u001b[32m2024-02-07 23:42:15.171\u001b[0m | \u001b[1mINFO    \u001b[0m | \u001b[36mgbm\u001b[0m:\u001b[36manalytical_solution_GBM\u001b[0m:\u001b[36m48\u001b[0m - \u001b[1mnumber of steps for duration 1 and dt 0.004: 250\u001b[0m\n",
      "\u001b[32m2024-02-07 23:42:15.199\u001b[0m | \u001b[1mINFO    \u001b[0m | \u001b[36mgbm\u001b[0m:\u001b[36manalytical_solution_GBM_one_step\u001b[0m:\u001b[36m72\u001b[0m - \u001b[1mnumber of steps for duration 1 : 1\u001b[0m\n"
     ]
    },
    {
     "name": "stdout",
     "output_type": "stream",
     "text": [
      "Naive GBM price: 4.258076981424954\n",
      "Black-Scholes 4.487793627568514\n",
      "Analitycal solution GBM price: 4.601931896424678\n"
     ]
    },
    {
     "name": "stderr",
     "output_type": "stream",
     "text": [
      "\u001b[32m2024-02-07 23:42:15.199\u001b[0m | \u001b[1mINFO    \u001b[0m | \u001b[36mgbm\u001b[0m:\u001b[36mnaive_GBM\u001b[0m:\u001b[36m26\u001b[0m - \u001b[1mnumber of steps for duration 1 and dt 0.004: 250\u001b[0m\n"
     ]
    },
    {
     "name": "stdout",
     "output_type": "stream",
     "text": [
      "Analitycal solution GBM 1-step price: 4.426602927805792\n"
     ]
    },
    {
     "name": "stderr",
     "output_type": "stream",
     "text": [
      "100%|████████████████████████████████████████████████████████████████████████████| 250/250 [00:00<00:00, 105554.26it/s]\n",
      "\u001b[32m2024-02-07 23:42:15.222\u001b[0m | \u001b[1mINFO    \u001b[0m | \u001b[36mgbm\u001b[0m:\u001b[36manalytical_solution_GBM\u001b[0m:\u001b[36m48\u001b[0m - \u001b[1mnumber of steps for duration 1 and dt 0.004: 250\u001b[0m\n"
     ]
    },
    {
     "name": "stdout",
     "output_type": "stream",
     "text": [
      "Naive GBM price: 4.438693478878155\n",
      "Black-Scholes 4.487793627568514\n"
     ]
    },
    {
     "name": "stderr",
     "output_type": "stream",
     "text": [
      "\u001b[32m2024-02-07 23:42:15.256\u001b[0m | \u001b[1mINFO    \u001b[0m | \u001b[36mgbm\u001b[0m:\u001b[36manalytical_solution_GBM_one_step\u001b[0m:\u001b[36m72\u001b[0m - \u001b[1mnumber of steps for duration 1 : 1\u001b[0m\n"
     ]
    },
    {
     "name": "stdout",
     "output_type": "stream",
     "text": [
      "Analitycal solution GBM price: 4.632831107173562\n",
      "Analitycal solution GBM 1-step price: 4.3876556045494395\n"
     ]
    },
    {
     "data": {
      "image/png": "[encoded data removed]",
      "text/plain": [
       "<Figure size 640x480 with 1 Axes>"
      ]
     },
     "metadata": {},
     "output_type": "display_data"
    },
    {
     "name": "stdout",
     "output_type": "stream",
     "text": [
      "    Naive GBM Price  Black-Scholes Price  Analytical GBM Price  \\\n",
      "0              0.00                 4.49                  0.00   \n",
      "1              3.92                 4.49                  0.53   \n",
      "2              8.33                 4.49                  7.89   \n",
      "3              4.62                 4.49                  5.48   \n",
      "4              4.36                 4.49                  4.37   \n",
      "5              3.66                 4.49                  4.67   \n",
      "6              4.20                 4.49                  4.53   \n",
      "7              4.51                 4.49                  4.73   \n",
      "8              5.22                 4.49                  4.00   \n",
      "9              3.92                 4.49                  4.63   \n",
      "10             4.06                 4.49                  5.05   \n",
      "11             4.76                 4.49                  3.84   \n",
      "12             4.55                 4.49                  4.01   \n",
      "13             4.83                 4.49                  4.46   \n",
      "14             4.53                 4.49                  4.33   \n",
      "15             4.69                 4.49                  4.64   \n",
      "16             4.12                 4.49                  4.65   \n",
      "17             4.74                 4.49                  4.19   \n",
      "18             4.48                 4.49                  4.52   \n",
      "19             4.26                 4.49                  4.60   \n",
      "20             4.44                 4.49                  4.63   \n",
      "\n",
      "    Analytical GBM 1-step Price  Nb simulation  \n",
      "0                         10.32              1  \n",
      "1                          6.16              5  \n",
      "2                          8.12             10  \n",
      "3                          4.61             25  \n",
      "4                          3.19             50  \n",
      "5                          5.16            100  \n",
      "6                          3.84            150  \n",
      "7                          4.10            200  \n",
      "8                          3.92            250  \n",
      "9                          4.47            300  \n",
      "10                         4.11            350  \n",
      "11                         4.32            400  \n",
      "12                         4.20            450  \n",
      "13                         4.74            500  \n",
      "14                         4.30            600  \n",
      "15                         4.33            700  \n",
      "16                         4.68            800  \n",
      "17                         4.13            900  \n",
      "18                         4.71           1000  \n",
      "19                         4.43           1500  \n",
      "20                         4.39           2000  \n"
     ]
    }
   ],
   "source": [
    "nb_simul = [1, 5, 10, 25, 50, 100, 150, 200, 250, 300, 350, 400, 450, 500, 600, 700, 800, 900 ,1000, 1500, 2000]\n",
    "\n",
    "df_price = price_over_nb_simul(nb_simul)"
   ]
  },
  {
   "cell_type": "markdown",
   "id": "6c45304e-14de-4813-b6f9-0c0e336b578c",
   "metadata": {},
   "source": [
    "### Let's visualize the price computed by each method"
   ]
  },
  {
   "cell_type": "code",
   "execution_count": 6,
   "id": "c14fc271-9ab1-43b8-84aa-9d26157c277b",
   "metadata": {
    "tags": []
   },
   "outputs": [
    {
     "data": {
      "text/html": [
       "<div>\n",
       "<style scoped>\n",
       "    .dataframe tbody tr th:only-of-type {\n",
       "        vertical-align: middle;\n",
       "    }\n",
       "\n",
       "    .dataframe tbody tr th {\n",
       "        vertical-align: top;\n",
       "    }\n",
       "\n",
       "    .dataframe thead th {\n",
       "        text-align: right;\n",
       "    }\n",
       "</style>\n",
       "<table border=\"1\" class=\"dataframe\">\n",
       "  <thead>\n",
       "    <tr style=\"text-align: right;\">\n",
       "      <th></th>\n",
       "      <th>Naive GBM Price</th>\n",
       "      <th>Black-Scholes Price</th>\n",
       "      <th>Analytical GBM Price</th>\n",
       "      <th>Analytical GBM 1-step Price</th>\n",
       "      <th>Nb simulation</th>\n",
       "    </tr>\n",
       "  </thead>\n",
       "  <tbody>\n",
       "    <tr>\n",
       "      <th>0</th>\n",
       "      <td>0.00</td>\n",
       "      <td>4.49</td>\n",
       "      <td>0.00</td>\n",
       "      <td>10.32</td>\n",
       "      <td>1</td>\n",
       "    </tr>\n",
       "    <tr>\n",
       "      <th>1</th>\n",
       "      <td>3.92</td>\n",
       "      <td>4.49</td>\n",
       "      <td>0.53</td>\n",
       "      <td>6.16</td>\n",
       "      <td>5</td>\n",
       "    </tr>\n",
       "    <tr>\n",
       "      <th>2</th>\n",
       "      <td>8.33</td>\n",
       "      <td>4.49</td>\n",
       "      <td>7.89</td>\n",
       "      <td>8.12</td>\n",
       "      <td>10</td>\n",
       "    </tr>\n",
       "    <tr>\n",
       "      <th>3</th>\n",
       "      <td>4.62</td>\n",
       "      <td>4.49</td>\n",
       "      <td>5.48</td>\n",
       "      <td>4.61</td>\n",
       "      <td>25</td>\n",
       "    </tr>\n",
       "    <tr>\n",
       "      <th>4</th>\n",
       "      <td>4.36</td>\n",
       "      <td>4.49</td>\n",
       "      <td>4.37</td>\n",
       "      <td>3.19</td>\n",
       "      <td>50</td>\n",
       "    </tr>\n",
       "    <tr>\n",
       "      <th>5</th>\n",
       "      <td>3.66</td>\n",
       "      <td>4.49</td>\n",
       "      <td>4.67</td>\n",
       "      <td>5.16</td>\n",
       "      <td>100</td>\n",
       "    </tr>\n",
       "    <tr>\n",
       "      <th>6</th>\n",
       "      <td>4.20</td>\n",
       "      <td>4.49</td>\n",
       "      <td>4.53</td>\n",
       "      <td>3.84</td>\n",
       "      <td>150</td>\n",
       "    </tr>\n",
       "    <tr>\n",
       "      <th>7</th>\n",
       "      <td>4.51</td>\n",
       "      <td>4.49</td>\n",
       "      <td>4.73</td>\n",
       "      <td>4.10</td>\n",
       "      <td>200</td>\n",
       "    </tr>\n",
       "    <tr>\n",
       "      <th>8</th>\n",
       "      <td>5.22</td>\n",
       "      <td>4.49</td>\n",
       "      <td>4.00</td>\n",
       "      <td>3.92</td>\n",
       "      <td>250</td>\n",
       "    </tr>\n",
       "    <tr>\n",
       "      <th>9</th>\n",
       "      <td>3.92</td>\n",
       "      <td>4.49</td>\n",
       "      <td>4.63</td>\n",
       "      <td>4.47</td>\n",
       "      <td>300</td>\n",
       "    </tr>\n",
       "    <tr>\n",
       "      <th>10</th>\n",
       "      <td>4.06</td>\n",
       "      <td>4.49</td>\n",
       "      <td>5.05</td>\n",
       "      <td>4.11</td>\n",
       "      <td>350</td>\n",
       "    </tr>\n",
       "    <tr>\n",
       "      <th>11</th>\n",
       "      <td>4.76</td>\n",
       "      <td>4.49</td>\n",
       "      <td>3.84</td>\n",
       "      <td>4.32</td>\n",
       "      <td>400</td>\n",
       "    </tr>\n",
       "    <tr>\n",
       "      <th>12</th>\n",
       "      <td>4.55</td>\n",
       "      <td>4.49</td>\n",
       "      <td>4.01</td>\n",
       "      <td>4.20</td>\n",
       "      <td>450</td>\n",
       "    </tr>\n",
       "    <tr>\n",
       "      <th>13</th>\n",
       "      <td>4.83</td>\n",
       "      <td>4.49</td>\n",
       "      <td>4.46</td>\n",
       "      <td>4.74</td>\n",
       "      <td>500</td>\n",
       "    </tr>\n",
       "    <tr>\n",
       "      <th>14</th>\n",
       "      <td>4.53</td>\n",
       "      <td>4.49</td>\n",
       "      <td>4.33</td>\n",
       "      <td>4.30</td>\n",
       "      <td>600</td>\n",
       "    </tr>\n",
       "    <tr>\n",
       "      <th>15</th>\n",
       "      <td>4.69</td>\n",
       "      <td>4.49</td>\n",
       "      <td>4.64</td>\n",
       "      <td>4.33</td>\n",
       "      <td>700</td>\n",
       "    </tr>\n",
       "    <tr>\n",
       "      <th>16</th>\n",
       "      <td>4.12</td>\n",
       "      <td>4.49</td>\n",
       "      <td>4.65</td>\n",
       "      <td>4.68</td>\n",
       "      <td>800</td>\n",
       "    </tr>\n",
       "    <tr>\n",
       "      <th>17</th>\n",
       "      <td>4.74</td>\n",
       "      <td>4.49</td>\n",
       "      <td>4.19</td>\n",
       "      <td>4.13</td>\n",
       "      <td>900</td>\n",
       "    </tr>\n",
       "    <tr>\n",
       "      <th>18</th>\n",
       "      <td>4.48</td>\n",
       "      <td>4.49</td>\n",
       "      <td>4.52</td>\n",
       "      <td>4.71</td>\n",
       "      <td>1000</td>\n",
       "    </tr>\n",
       "    <tr>\n",
       "      <th>19</th>\n",
       "      <td>4.26</td>\n",
       "      <td>4.49</td>\n",
       "      <td>4.60</td>\n",
       "      <td>4.43</td>\n",
       "      <td>1500</td>\n",
       "    </tr>\n",
       "    <tr>\n",
       "      <th>20</th>\n",
       "      <td>4.44</td>\n",
       "      <td>4.49</td>\n",
       "      <td>4.63</td>\n",
       "      <td>4.39</td>\n",
       "      <td>2000</td>\n",
       "    </tr>\n",
       "  </tbody>\n",
       "</table>\n",
       "</div>"
      ],
      "text/plain": [
       "    Naive GBM Price  Black-Scholes Price  Analytical GBM Price  \\\n",
       "0              0.00                 4.49                  0.00   \n",
       "1              3.92                 4.49                  0.53   \n",
       "2              8.33                 4.49                  7.89   \n",
       "3              4.62                 4.49                  5.48   \n",
       "4              4.36                 4.49                  4.37   \n",
       "5              3.66                 4.49                  4.67   \n",
       "6              4.20                 4.49                  4.53   \n",
       "7              4.51                 4.49                  4.73   \n",
       "8              5.22                 4.49                  4.00   \n",
       "9              3.92                 4.49                  4.63   \n",
       "10             4.06                 4.49                  5.05   \n",
       "11             4.76                 4.49                  3.84   \n",
       "12             4.55                 4.49                  4.01   \n",
       "13             4.83                 4.49                  4.46   \n",
       "14             4.53                 4.49                  4.33   \n",
       "15             4.69                 4.49                  4.64   \n",
       "16             4.12                 4.49                  4.65   \n",
       "17             4.74                 4.49                  4.19   \n",
       "18             4.48                 4.49                  4.52   \n",
       "19             4.26                 4.49                  4.60   \n",
       "20             4.44                 4.49                  4.63   \n",
       "\n",
       "    Analytical GBM 1-step Price  Nb simulation  \n",
       "0                         10.32              1  \n",
       "1                          6.16              5  \n",
       "2                          8.12             10  \n",
       "3                          4.61             25  \n",
       "4                          3.19             50  \n",
       "5                          5.16            100  \n",
       "6                          3.84            150  \n",
       "7                          4.10            200  \n",
       "8                          3.92            250  \n",
       "9                          4.47            300  \n",
       "10                         4.11            350  \n",
       "11                         4.32            400  \n",
       "12                         4.20            450  \n",
       "13                         4.74            500  \n",
       "14                         4.30            600  \n",
       "15                         4.33            700  \n",
       "16                         4.68            800  \n",
       "17                         4.13            900  \n",
       "18                         4.71           1000  \n",
       "19                         4.43           1500  \n",
       "20                         4.39           2000  "
      ]
     },
     "execution_count": 6,
     "metadata": {},
     "output_type": "execute_result"
    }
   ],
   "source": [
    "df_price"
   ]
  },
  {
   "cell_type": "markdown",
   "id": "eb187e4a-49bf-406f-86e6-0af666a6f937",
   "metadata": {},
   "source": [
    "We notice that as the number of simulations we generate increases, the prices calculated by each method seem to come closer to the price calculated by the closed black-scholes formula. This can be explained by the law of large numbers: the more simulations we generate, the more the methods based on discretization approaches to approximate the solution of the price movement described by geometric Brownian motion converge towards the price given by Black-Scholes."
   ]
  }
 ],
 "metadata": {
  "kernelspec": {
   "display_name": "Python 3 (ipykernel)",
   "language": "python",
   "name": "python3"
  },
  "language_info": {
   "codemirror_mode": {
    "name": "ipython",
    "version": 3
   },
   "file_extension": ".py",
   "mimetype": "text/x-python",
   "name": "python",
   "nbconvert_exporter": "python",
   "pygments_lexer": "ipython3",
   "version": "3.11.5"
  }
 },
 "nbformat": 4,
 "nbformat_minor": 5
}
