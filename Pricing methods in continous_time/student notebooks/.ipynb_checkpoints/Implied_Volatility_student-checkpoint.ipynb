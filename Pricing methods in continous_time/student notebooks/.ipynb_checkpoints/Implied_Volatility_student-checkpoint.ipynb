{
 "cells": [
  {
   "cell_type": "markdown",
   "id": "f6d74579-80dd-4623-b504-7d9caf6dfba0",
   "metadata": {},
   "source": [
    "### Implied Volatility for European Call\n",
    "\n",
    "#### *Author : Hugo Michel*"
   ]
  },
  {
   "cell_type": "markdown",
   "id": "ea64070b-0f36-400d-af6e-77d023bdd184",
   "metadata": {
    "jp-MarkdownHeadingCollapsed": true,
    "tags": []
   },
   "source": [
    "### Implied Volatility (IV) definition\n",
    "\n",
    "The term implied volatility refers to a metric that captures the market's view of the likelihood of future changes in a given security's price. Investors can use implied volatility to project future moves and supply and demand, and often employ it to price options contracts. Implied volatility isn't the same as historical volatility (also known as realized volatility or statistical volatility), which measures past market changes and their actual results.\n",
    "\n",
    "Implied volatility is the market's forecast of a likely movement in a security's price. It is a metric used by investors to estimate future fluctuations (volatility) of a security's price based on certain predictive factors. Implied volatility is denoted by the symbol σ (sigma). It can often be thought to be a proxy of market risk. It is commonly expressed using percentages and standard deviations over a specified time horizon.\n",
    "\n",
    "It founds out that the IV is a good indicator to quantify market sentiment.\n",
    "* IV generally increases in bearish markets, when investors believe equity prices will decline over time. \n",
    "* IV decreases when the market is bullish. \n",
    "\n",
    "This is when investors believe prices will rise over time. Bearish markets are considered to be undesirable and riskier to the majority of equity investors."
   ]
  },
  {
   "cell_type": "markdown",
   "id": "be1679c7-f0c8-41f8-9572-e748f4c29ada",
   "metadata": {},
   "source": [
    "### How to extract Implied Volatility from the market\n",
    "\n",
    "In order to understand what the implied volatility of a call option is and then calculate it, consider the Black-Scholes formula for pricing a European call option below.\n",
    "\n",
    "*Closed formula for a call option*\n",
    "\n",
    "For reminder, a call option is a financial contract that gives the holder (buyer) the right, but not the obligation, to buy a specified quantity of an underlying asset (such as stocks, commodities, or indices) at a predetermined price (known as the strike price) within a specified period (expiration date). \n",
    "\n",
    "Investors typically buy call options if they anticipate that the price of the underlying asset will rise. If the asset's market price is higher than the strike price at expiration, the call option is said to be \"in the money,\" and the investor may choose to exercise the option to buy the asset at the agreed-upon price.\n",
    "\n",
    "$C(S_{t},K,t)=S_{t}\\Phi (d_{1})-Ke^{-r(T-t)}\\Phi (d_{2})$\n",
    "\n",
    "with: \n",
    "\n",
    "$d_{1}=\\frac{\\ln \\frac{S_{t}}{K} + (r + \\frac{\\sigma^2}{2})\\tau}{\\sigma\\sqrt{\\tau}}$\n",
    "\n",
    " \n",
    "\n",
    "$d_{2}=d_{1}-\\sigma\\sqrt{\\tau}$\n",
    "\n",
    " \n",
    "\n",
    "$\\Phi(x)$ is the cumulative distribution function ($CDF$) for a standard normal distribution.\n",
    "\n",
    " \n",
    "\n",
    "$\\Phi(x)={\\frac{1}{\\sqrt{2\\pi}}}\\int_{-\\infty }^{x}e^{-t^{2}/2}\\,dt$"
   ]
  },
  {
   "cell_type": "markdown",
   "id": "11023f53-b307-459f-80b5-dd7d1008764e",
   "metadata": {},
   "source": [
    "### Closed form of European Call (Black-Scholes)"
   ]
  },
  {
   "cell_type": "code",
   "execution_count": 10,
   "id": "c4b47524-9605-40a4-9e7f-c24e4471eb52",
   "metadata": {
    "tags": []
   },
   "outputs": [],
   "source": [
    "import numpy as np\n",
    "from scipy.stats import norm\n",
    "\n",
    "phi = norm.cdf\n",
    "\n",
    "def black_scholes_call(S, K, T, r, sigma):\n",
    "    '''\n",
    "\n",
    "    :param S: Asset price\n",
    "    :param K: Strike price\n",
    "    :param T: Time to maturity\n",
    "    :param r: risk-free rate (treasury bills)\n",
    "    :param sigma: volatility\n",
    "    :return: call price\n",
    "    '''\n",
    "\n",
    "    ###standard black-scholes formula\n",
    "    d1 = (np.log(S / K) + (r + sigma ** 2 / 2) * T) / (sigma * np.sqrt(T))\n",
    "    d2 = d1 - sigma * np.sqrt(T)\n",
    "\n",
    "    call = S * phi(d1) -  phi(d2)* K * np.exp(-r * T)\n",
    "    return call"
   ]
  },
  {
   "cell_type": "markdown",
   "id": "d673fd48-7f92-4d62-b87f-f1c74a9df2a2",
   "metadata": {},
   "source": [
    "Consider the following example to demonstrate implied volatility. You observe a stock in the market with a current price $S_0$ of 100 dollars, there is an option for sale, for the right to buy the stock in exactly 1 year from now for 115 dollars , the option costs 18 dollars and the risk free rate is 5%. Notice we know everything except the volatility($\\sigma$) from the equation above. Observe the example in equation form:\n",
    "\n",
    "$$\n",
    "18 = 100 \\Phi(\\frac{ln(\\frac{110}{115}) + (0.05 + \\frac{\\sigma^2}{2})1)}{\\sigma \\sqrt{1}}) - \\Phi (\\frac{ln(\\frac{110}{115}) + (0.05 + \\frac{\\sigma^2}{2})1)}{\\sigma \\sqrt{1}}- \\sigma \\sqrt{1}) \\times 115 e^{-0.05 * 1}\n",
    "$$"
   ]
  },
  {
   "cell_type": "markdown",
   "id": "2611ad86-2703-44cd-820b-a5a99975edbf",
   "metadata": {},
   "source": [
    "The $\\sigma$ parameter from above is the volatility at which the Black-Scholes formula would return a value of 18 dollars. So essentially once we solve for $\\sigma$ in the equation above we have the implied volatility of the option price. Since the formula above cannot be solved explicitly we must resort to iterative measures."
   ]
  },
  {
   "cell_type": "markdown",
   "id": "9bd31f9f-f201-45e6-ba71-895c1214f2dd",
   "metadata": {},
   "source": [
    "### First Method : Brute Force\n",
    "\n",
    "Let's use a brute force method below to demonstrate what iterative methods actually are. The numpy array of volatility candidates  contains approximately 40,000 possible solutions to the equation described above, below we simply iterate through them all in order to find that one that minimizes the absolute difference between the observed price and the Black-Scholes price, or in math terms we are finding the root of the function."
   ]
  },
  {
   "cell_type": "code",
   "execution_count": 11,
   "id": "50e2e8f9-5187-49e5-a2a8-5a22df4702fb",
   "metadata": {
    "tags": []
   },
   "outputs": [
    {
     "name": "stdout",
     "output_type": "stream",
     "text": [
      "Implied volatility for option is: 0.5427999999999968\n",
      "CPU times: total: 6.52 s\n",
      "Wall time: 7.28 s\n"
     ]
    }
   ],
   "source": [
    "%%time\n",
    "\n",
    "volatility_candidates = np.arange(0.01,4,0.0001)\n",
    "price_differences = np.zeros_like(volatility_candidates)\n",
    "\n",
    "observed_price = 18\n",
    "S = 100\n",
    "K = 115\n",
    "r = 0.05 \n",
    "T = 1 \n",
    "\n",
    "for i in range(len(volatility_candidates)):\n",
    "    \n",
    "    candidate = ... #(select i-th value of volatility_candidates)\n",
    "    \n",
    "    price_differences[i] = ... # (compute the difference between observed price and black-scholes output)\n",
    "    \n",
    "# get the index of the minimum value of the list    \n",
    "idx = ... # (get the index of the minimum absolute value of the list)   \n",
    "implied_volatility = volatility_candidates[idx]\n",
    "print('Implied volatility for option is:', implied_volatility)"
   ]
  },
  {
   "cell_type": "markdown",
   "id": "db6522fb-12cd-4285-8154-8aa4eb7b97da",
   "metadata": {
    "tags": []
   },
   "source": [
    "We can can verify the iterative algorithm worked by plugging the implied volatility number back into the Black-Scholes formula."
   ]
  },
  {
   "cell_type": "code",
   "execution_count": 12,
   "id": "0f84905a-f3e1-4895-a629-aea8f75ab17a",
   "metadata": {
    "tags": []
   },
   "outputs": [
    {
     "name": "stdout",
     "output_type": "stream",
     "text": [
      "17.998310436548692\n"
     ]
    }
   ],
   "source": [
    "S = 100\n",
    "K = 115\n",
    "r = 0.05 \n",
    "T = 1 \n",
    "sigma = implied_volatility\n",
    "\n",
    "price = black_scholes_call(S, K, T, r, sigma)\n",
    "\n",
    "print(price)"
   ]
  },
  {
   "cell_type": "markdown",
   "id": "a18e2459-eae6-4217-883d-b8dc66cbdd2a",
   "metadata": {},
   "source": [
    "Notice that the value we get above is slightly different from the $18 we expected. This is inherent feature of iterative methods, think of the 0.0001 in volatility_candidates = np.arange(0.01,4,0.0001) as a tolerance for error , changing this value up or down will increase or decrease the error respectively. "
   ]
  },
  {
   "cell_type": "markdown",
   "id": "c724c52f-584d-4f05-9d0f-f0ee1ecf8aa1",
   "metadata": {},
   "source": [
    "### Limitation of Brute Force methodology"
   ]
  },
  {
   "cell_type": "markdown",
   "id": "6e8b8736-792e-40fa-9563-7f1946ef7e9b",
   "metadata": {},
   "source": [
    "Whilst the method described above works pretty well, you may have noticed that it takes quite a while to finish. Imagine having say 1000 options for which you wanted to calculate the implied volatility. It took roughly 6 seconds for the above script to finish, multiplying that by 1000 equates to well over an hour of waiting.\n",
    "\n",
    "Also notice the search area we designated for our brute force method was bounded between 1% and 400%, there is no reason why an option wouldn't be priced higher than that which would lead trouble!"
   ]
  },
  {
   "attachments": {
    "d31659ae-3dcd-4f3f-89aa-50bf2c87c3ae.png": {
     "image/png": "[encoded data removed]"
    }
   },
   "cell_type": "markdown",
   "id": "92ba5ab9-1bcc-46cc-b617-994c1b38bb2e",
   "metadata": {},
   "source": [
    "### Newton Raphson Algorithm \n",
    "\n",
    "The idea is to start with an initial guess value for $\\sigma$, then approximate the function by its tangent line, and finally to compute the x-intercept (ordonnée à l'origine in french) of this tangent line. This x-intercept will typically be a better approximation to the original function's root than the first guess, and the method can be iterated.\n",
    "\n",
    "If the tangent line to the curve $f(x)$ at $x = x_n$ intercepts the x-axis at $x_{n+1}$ then the slope is:\n",
    "$x_{n+1} = x_n - \\frac{f(x_n) - 0}{x_n - x_{n+1}}$\n",
    "\n",
    "Solving for $x_{n+1}$ gives:\n",
    "\n",
    "$$\n",
    "x_{n+1} = x_n - \\frac{f(x_n)}{f'(x_n)}\n",
    "$$\n",
    "\n",
    "We start the process with some arbitrary initial value $x_0$. (The closer to the zero, the better. But, in the absence of any intuition about where the zero might lie, a \"guess and check\" method might narrow the possibilities to a reasonably small interval by appealing to the intermediate value theorem.) The method will usually converge, provided this initial guess is close enough to the unknown zero, and that $f′(x0) ≠ 0$. Furthermore, for a zero of multiplicity 1, the convergence is at least quadratic in a neighbourhood of the zero, which intuitively means that the number of correct digits roughly doubles in every step.\n",
    "\n",
    "![image.png](attachment:d31659ae-3dcd-4f3f-89aa-50bf2c87c3ae.png)\n",
    "\n",
    "In this figure we can see that, $x_{n+1}$ is a better approximation than $x_n$ for the root $x$ of the function $f$ (blue curve)\n",
    "\n",
    "The Newton Raphson method is a widely used algorithm for calculating the implied volatility of an option. The steps for the generic algorithm are as follows:\n",
    "\n",
    "1. Define our function as $f(x)$ for which we want to solve $f(x)=0$\n",
    "2. Choose an initial guess\n",
    "3. Iterate as follows: $x_{n+1} = x_n - \\frac{f(x_n)}{f'(x_n)}$\n",
    "4. Break if: $|f(x_n)| <\\epsilon$, here $\\epsilon$ is the tolerance for error describes in the brute force method\n",
    "\n"
   ]
  },
  {
   "cell_type": "markdown",
   "id": "a3ba7973-86d5-48bf-af71-7b6577796852",
   "metadata": {},
   "source": [
    "More precisely:\n",
    "\n",
    "We want to minimize the difference between the value of the call computed by Balck-Scholes using in input the candidate $\\sigma$ and the real value of the option given by the market\n",
    "$$f(\\sigma) = V_{BS_\\sigma} - V_{market} = 0$$\n",
    "\n",
    "1. Initial guess $\\sigma_0 = 0.05$ (chosen for convenience)\n",
    "\n",
    "2. At each iteration:\n",
    "    1. Compute $f(\\sigma) = V_{BS_\\sigma} - V_{market}$\n",
    "    2. Compute the first derivative using the $vega$ formula\n",
    "    3. Compute $\\sigma_{n+1} = \\sigma_n - \\frac{V_{BS} - V_{\\text{market}}}{\\frac{\\partial V_{BS_{\\sigma}}}{\\partial \\sigma}}$\n",
    "    4. Stop the iteration when $|V_{BS} - V_{market}| <\\epsilon$, return $\\sigma_n$\n",
    "\n",
    "\n",
    "For the initial guess of $\\sigma$ we can use Brenner and Subrahmanyam (1988) methods which provides a method for calculating the initial guess which is as follows:\n",
    "\n",
    "$\\sigma \\approx \\sqrt{\\frac{2\\pi}{T}} \\cdot \\frac{C}{S}$"
   ]
  },
  {
   "cell_type": "markdown",
   "id": "f8e4557e-5a4d-40fd-8fc9-468d42f1bd51",
   "metadata": {},
   "source": [
    "In order to code this in Python we first need to make a function that computes the partial derivative of the value of a call option with respect to volatility. This partial derivative is commonly referred to as vega. \n",
    "\n",
    "$vega = S \\sqrt{T}\\Phi'(d1)$\n",
    "\n",
    "Please note that $d1$ in $vega$ is the same $d_{1}=\\frac{\\ln \\frac{S_{t}}{K} + (r + \\frac{\\sigma^2}{2})\\tau}{\\sigma\\sqrt{\\tau}}$ that we calculated in the Black-Scholes formula and $\\Phi'$ is the probability density function for a standard normal distribution"
   ]
  },
  {
   "cell_type": "markdown",
   "id": "164e1e2a-5f48-426c-867a-dc142ce2ea11",
   "metadata": {},
   "source": [
    "#### Let's implement a function to intitialize $\\sigma$ accoding to Brenner and Subrahmanyam (1988)\n",
    "\n",
    "$\\sigma \\approx \\sqrt{\\frac{2\\pi}{T}} \\cdot \\frac{C}{S}$"
   ]
  },
  {
   "cell_type": "code",
   "execution_count": null,
   "id": "cf925d87-1795-49dd-b84f-2d4c86908630",
   "metadata": {},
   "outputs": [],
   "source": [
    "def initialize_sigma(C, S, T):\n",
    "    return ... #(initialize the sigma according to Brenner and Subrahmanyam formula)"
   ]
  },
  {
   "cell_type": "markdown",
   "id": "3bfa4dd3-94ad-4a66-accf-887eccd8c562",
   "metadata": {},
   "source": [
    "#### Let's define $vega$"
   ]
  },
  {
   "cell_type": "code",
   "execution_count": 13,
   "id": "7841c1d8-60c3-4dca-a4db-a2570df05877",
   "metadata": {},
   "outputs": [],
   "source": [
    "def vega(S, K, T, r, sigma):\n",
    "    '''\n",
    "    :param S: Asset price\n",
    "    :param K: Strike price\n",
    "    :param T: Time to Maturity\n",
    "    :param r: risk-free rate (treasury bills)\n",
    "    :param sigma: volatility\n",
    "    :return: partial derivative w.r.t volatility\n",
    "    '''\n",
    "    # probability density function\n",
    "    N_prime = norm.pdf\n",
    "    \n",
    "    ### calculating d1 from black scholes\n",
    "    d1 = (np.log(S / K) + (r + sigma ** 2 / 2) * T) / (sigma * np.sqrt(T))\n",
    "\n",
    "    \n",
    "    vega = ... (# compute the vega term)\n",
    "    return vega"
   ]
  },
  {
   "cell_type": "markdown",
   "id": "4786e8c8-5057-4cc9-a67b-fa63e9fd783a",
   "metadata": {},
   "source": [
    "#### Let's initialize the $\\sigma$ according to the formula provided by Brenner and Subrahmanyam"
   ]
  },
  {
   "cell_type": "markdown",
   "id": "97d0dad7-bfff-4962-93dd-ecfb41fda4f3",
   "metadata": {},
   "source": [
    "#### Now that we have a function to calculate vega let's create a function to implement Newton's method on our example security and compare it to the value we got using the brute force approach. "
   ]
  },
  {
   "cell_type": "code",
   "execution_count": 15,
   "id": "09a800c0-9cd3-46d9-87e4-665c40ed5ac7",
   "metadata": {
    "tags": []
   },
   "outputs": [],
   "source": [
    "def implied_volatility_call(C, S, K, T, r, tol=0.0001, max_iterations=100):\n",
    "    '''\n",
    "    :param C: Observed call price\n",
    "    :param S: Asset price\n",
    "    :param K: Strike Price\n",
    "    :param T: Time to Maturity\n",
    "    :param r: riskfree rate\n",
    "    :param tol: error tolerance in result\n",
    "    :param max_iterations: max iterations to update vol\n",
    "    :return: implied volatility in percent\n",
    "    '''\n",
    "\n",
    "    ### assigning initial volatility estimate for input in Newton raphson procedure\n",
    "    #sigma = initialize_sigma(C, S, T) # we iinitilialize the volatility # UNCOMMENT this line to see how the Brenner and Subrahmanyam is usefull to compute the implied in less iteration\n",
    "    sigma = 0.05\n",
    "    \n",
    "    for i in range(max_iterations):\n",
    "\n",
    "        ### calculate difference between black-scholes price and market price with\n",
    "        ### iteratively updated volality estimate\n",
    "        diff = ... # TODO (calculate difference between black-scholes price and market price with iteratively updated volality estimate)\n",
    "\n",
    "        ### break if difference is less than specified tolerance level\n",
    "        if abs(diff) < tol:\n",
    "            print(f'found on {i}th iteration')\n",
    "            print(f'difference is equal to {diff}')\n",
    "            break\n",
    "\n",
    "        ### use newton rapshon to update the estimate\n",
    "        sigma = sigma - diff / vega(S, K, T, r, sigma)\n",
    "\n",
    "    return sigma"
   ]
  },
  {
   "cell_type": "markdown",
   "id": "72af75d0-18ef-48cd-a85a-12f3aa638496",
   "metadata": {},
   "source": [
    "For reminder, the example security we used for the brute force method:\n",
    "\n",
    "You observe a stock in the market with a current price of 100 dollars, there is an option for sale for the right to buy the stock in exactly 1 year from now for 115 dollars, the option costs 18 dollars and the risk free rate rate is 5%."
   ]
  },
  {
   "cell_type": "code",
   "execution_count": 16,
   "id": "a34fd34c-cb41-402d-b129-c6463ab56a07",
   "metadata": {
    "tags": []
   },
   "outputs": [
    {
     "name": "stdout",
     "output_type": "stream",
     "text": [
      "found on 5th iteration\n",
      "difference is equal to -3.9848156134780766e-06\n",
      "Implied volatility using Newton Rapshon is:  0.5428424894454484\n",
      "CPU times: total: 0 ns\n",
      "Wall time: 13.1 ms\n"
     ]
    }
   ],
   "source": [
    "%%time\n",
    "\n",
    "observed_price = 18\n",
    "S = 100\n",
    "K = 115\n",
    "T = 1\n",
    "r = 0.05\n",
    "\n",
    "imp_vol = implied_volatility_call(observed_price, S, K, T, r)\n",
    "print('Implied volatility using Newton Rapshon is: ',imp_vol)"
   ]
  },
  {
   "cell_type": "markdown",
   "id": "3d8f8474-a0ef-4e09-8712-c55415f4ef54",
   "metadata": {},
   "source": [
    "Compare this number to the one we calculated using the brute force approach, they are effectively identical. You can verify this number is correct by plugging the `imp_vol` back into the Black-Scholes formula which returns approximately 18.\n",
    "\n",
    "It took approximately 0.004 seconds when we run the snippet above, comparing this to 6 seconds it took when using the brute force approach. Consider again calculating the implied volatility for 1000 options using both approaches; using Newton Raphson we would be finished in 2 seconds in comparison to well over an hour for brute force approach. A significant increase in speed!"
   ]
  },
  {
   "cell_type": "markdown",
   "id": "1319089f-adbe-41dd-bb8d-48ab2ca2f809",
   "metadata": {},
   "source": [
    "### Newton Rapshon limitation\n",
    "\n",
    "One problem exists with the Newton Rapshon method when the vega will be close to zero which is the case if the option is considered as out of the money options. "
   ]
  }
 ],
 "metadata": {
  "kernelspec": {
   "display_name": "Python 3 (ipykernel)",
   "language": "python",
   "name": "python3"
  },
  "language_info": {
   "codemirror_mode": {
    "name": "ipython",
    "version": 3
   },
   "file_extension": ".py",
   "mimetype": "text/x-python",
   "name": "python",
   "nbconvert_exporter": "python",
   "pygments_lexer": "ipython3",
   "version": "3.11.5"
  }
 },
 "nbformat": 4,
 "nbformat_minor": 5
}
